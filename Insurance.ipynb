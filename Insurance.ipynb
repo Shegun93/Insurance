{
  "nbformat": 4,
  "nbformat_minor": 0,
  "metadata": {
    "colab": {
      "name": "Insurance.ipynb",
      "provenance": [],
      "collapsed_sections": [],
      "authorship_tag": "ABX9TyOQ5dIb7k+uGOxck8vhNB+k",
      "include_colab_link": true
    },
    "kernelspec": {
      "name": "python3",
      "display_name": "Python 3"
    },
    "language_info": {
      "name": "python"
    }
  },
  "cells": [
    {
      "cell_type": "markdown",
      "metadata": {
        "id": "view-in-github",
        "colab_type": "text"
      },
      "source": [
        "<a href=\"https://colab.research.google.com/github/Shegun93/Insurance/blob/main/Insurance.ipynb\" target=\"_parent\"><img src=\"https://colab.research.google.com/assets/colab-badge.svg\" alt=\"Open In Colab\"/></a>"
      ]
    },
    {
      "cell_type": "markdown",
      "metadata": {
        "id": "NM0di1ZS0KMw"
      },
      "source": [
        "# Importing the Libraries\n"
      ]
    },
    {
      "cell_type": "code",
      "metadata": {
        "id": "UkRlqkixzgrW"
      },
      "source": [
        "import pandas as pd\n",
        "import matplotlib.pyplot as plt\n",
        "import numpy as np\n",
        "import seaborn as sns\n"
      ],
      "execution_count": 1,
      "outputs": []
    },
    {
      "cell_type": "markdown",
      "metadata": {
        "id": "rXI-uZH20UuJ"
      },
      "source": [
        "# importing the dataset"
      ]
    },
    {
      "cell_type": "code",
      "metadata": {
        "id": "NfEuFk0rEirL"
      },
      "source": [
        "dataset = pd.read_csv('insurance.csv')"
      ],
      "execution_count": 2,
      "outputs": []
    },
    {
      "cell_type": "markdown",
      "metadata": {
        "id": "uwBIfQfBEkB2"
      },
      "source": [
        "# Exploratory Data Analysis"
      ]
    },
    {
      "cell_type": "code",
      "metadata": {
        "colab": {
          "base_uri": "https://localhost:8080/",
          "height": 204
        },
        "id": "5Iqvqh-kDG3r",
        "outputId": "859aeca9-dbdd-4dc7-b9f4-b1c5e1f82cc9"
      },
      "source": [
        "dataset.head()"
      ],
      "execution_count": 3,
      "outputs": [
        {
          "output_type": "execute_result",
          "data": {
            "text/html": [
              "<div>\n",
              "<style scoped>\n",
              "    .dataframe tbody tr th:only-of-type {\n",
              "        vertical-align: middle;\n",
              "    }\n",
              "\n",
              "    .dataframe tbody tr th {\n",
              "        vertical-align: top;\n",
              "    }\n",
              "\n",
              "    .dataframe thead th {\n",
              "        text-align: right;\n",
              "    }\n",
              "</style>\n",
              "<table border=\"1\" class=\"dataframe\">\n",
              "  <thead>\n",
              "    <tr style=\"text-align: right;\">\n",
              "      <th></th>\n",
              "      <th>age</th>\n",
              "      <th>sex</th>\n",
              "      <th>bmi</th>\n",
              "      <th>children</th>\n",
              "      <th>smoker</th>\n",
              "      <th>region</th>\n",
              "      <th>charges</th>\n",
              "    </tr>\n",
              "  </thead>\n",
              "  <tbody>\n",
              "    <tr>\n",
              "      <th>0</th>\n",
              "      <td>19</td>\n",
              "      <td>female</td>\n",
              "      <td>27.900</td>\n",
              "      <td>0</td>\n",
              "      <td>yes</td>\n",
              "      <td>southwest</td>\n",
              "      <td>16884.92400</td>\n",
              "    </tr>\n",
              "    <tr>\n",
              "      <th>1</th>\n",
              "      <td>18</td>\n",
              "      <td>male</td>\n",
              "      <td>33.770</td>\n",
              "      <td>1</td>\n",
              "      <td>no</td>\n",
              "      <td>southeast</td>\n",
              "      <td>1725.55230</td>\n",
              "    </tr>\n",
              "    <tr>\n",
              "      <th>2</th>\n",
              "      <td>28</td>\n",
              "      <td>male</td>\n",
              "      <td>33.000</td>\n",
              "      <td>3</td>\n",
              "      <td>no</td>\n",
              "      <td>southeast</td>\n",
              "      <td>4449.46200</td>\n",
              "    </tr>\n",
              "    <tr>\n",
              "      <th>3</th>\n",
              "      <td>33</td>\n",
              "      <td>male</td>\n",
              "      <td>22.705</td>\n",
              "      <td>0</td>\n",
              "      <td>no</td>\n",
              "      <td>northwest</td>\n",
              "      <td>21984.47061</td>\n",
              "    </tr>\n",
              "    <tr>\n",
              "      <th>4</th>\n",
              "      <td>32</td>\n",
              "      <td>male</td>\n",
              "      <td>28.880</td>\n",
              "      <td>0</td>\n",
              "      <td>no</td>\n",
              "      <td>northwest</td>\n",
              "      <td>3866.85520</td>\n",
              "    </tr>\n",
              "  </tbody>\n",
              "</table>\n",
              "</div>"
            ],
            "text/plain": [
              "   age     sex     bmi  children smoker     region      charges\n",
              "0   19  female  27.900         0    yes  southwest  16884.92400\n",
              "1   18    male  33.770         1     no  southeast   1725.55230\n",
              "2   28    male  33.000         3     no  southeast   4449.46200\n",
              "3   33    male  22.705         0     no  northwest  21984.47061\n",
              "4   32    male  28.880         0     no  northwest   3866.85520"
            ]
          },
          "metadata": {
            "tags": []
          },
          "execution_count": 3
        }
      ]
    },
    {
      "cell_type": "code",
      "metadata": {
        "colab": {
          "base_uri": "https://localhost:8080/"
        },
        "id": "OunCVQ7-Dhff",
        "outputId": "225964ea-9054-45c3-dbc3-079e68feacbb"
      },
      "source": [
        "dataset.shape"
      ],
      "execution_count": 4,
      "outputs": [
        {
          "output_type": "execute_result",
          "data": {
            "text/plain": [
              "(1338, 7)"
            ]
          },
          "metadata": {
            "tags": []
          },
          "execution_count": 4
        }
      ]
    },
    {
      "cell_type": "code",
      "metadata": {
        "colab": {
          "base_uri": "https://localhost:8080/",
          "height": 297
        },
        "id": "kKhXeGKIDnib",
        "outputId": "2a337fe1-cb92-4df3-9cc2-fa5eedbc1c44"
      },
      "source": [
        "dataset.describe()"
      ],
      "execution_count": 5,
      "outputs": [
        {
          "output_type": "execute_result",
          "data": {
            "text/html": [
              "<div>\n",
              "<style scoped>\n",
              "    .dataframe tbody tr th:only-of-type {\n",
              "        vertical-align: middle;\n",
              "    }\n",
              "\n",
              "    .dataframe tbody tr th {\n",
              "        vertical-align: top;\n",
              "    }\n",
              "\n",
              "    .dataframe thead th {\n",
              "        text-align: right;\n",
              "    }\n",
              "</style>\n",
              "<table border=\"1\" class=\"dataframe\">\n",
              "  <thead>\n",
              "    <tr style=\"text-align: right;\">\n",
              "      <th></th>\n",
              "      <th>age</th>\n",
              "      <th>bmi</th>\n",
              "      <th>children</th>\n",
              "      <th>charges</th>\n",
              "    </tr>\n",
              "  </thead>\n",
              "  <tbody>\n",
              "    <tr>\n",
              "      <th>count</th>\n",
              "      <td>1338.000000</td>\n",
              "      <td>1338.000000</td>\n",
              "      <td>1338.000000</td>\n",
              "      <td>1338.000000</td>\n",
              "    </tr>\n",
              "    <tr>\n",
              "      <th>mean</th>\n",
              "      <td>39.207025</td>\n",
              "      <td>30.663397</td>\n",
              "      <td>1.094918</td>\n",
              "      <td>13270.422265</td>\n",
              "    </tr>\n",
              "    <tr>\n",
              "      <th>std</th>\n",
              "      <td>14.049960</td>\n",
              "      <td>6.098187</td>\n",
              "      <td>1.205493</td>\n",
              "      <td>12110.011237</td>\n",
              "    </tr>\n",
              "    <tr>\n",
              "      <th>min</th>\n",
              "      <td>18.000000</td>\n",
              "      <td>15.960000</td>\n",
              "      <td>0.000000</td>\n",
              "      <td>1121.873900</td>\n",
              "    </tr>\n",
              "    <tr>\n",
              "      <th>25%</th>\n",
              "      <td>27.000000</td>\n",
              "      <td>26.296250</td>\n",
              "      <td>0.000000</td>\n",
              "      <td>4740.287150</td>\n",
              "    </tr>\n",
              "    <tr>\n",
              "      <th>50%</th>\n",
              "      <td>39.000000</td>\n",
              "      <td>30.400000</td>\n",
              "      <td>1.000000</td>\n",
              "      <td>9382.033000</td>\n",
              "    </tr>\n",
              "    <tr>\n",
              "      <th>75%</th>\n",
              "      <td>51.000000</td>\n",
              "      <td>34.693750</td>\n",
              "      <td>2.000000</td>\n",
              "      <td>16639.912515</td>\n",
              "    </tr>\n",
              "    <tr>\n",
              "      <th>max</th>\n",
              "      <td>64.000000</td>\n",
              "      <td>53.130000</td>\n",
              "      <td>5.000000</td>\n",
              "      <td>63770.428010</td>\n",
              "    </tr>\n",
              "  </tbody>\n",
              "</table>\n",
              "</div>"
            ],
            "text/plain": [
              "               age          bmi     children       charges\n",
              "count  1338.000000  1338.000000  1338.000000   1338.000000\n",
              "mean     39.207025    30.663397     1.094918  13270.422265\n",
              "std      14.049960     6.098187     1.205493  12110.011237\n",
              "min      18.000000    15.960000     0.000000   1121.873900\n",
              "25%      27.000000    26.296250     0.000000   4740.287150\n",
              "50%      39.000000    30.400000     1.000000   9382.033000\n",
              "75%      51.000000    34.693750     2.000000  16639.912515\n",
              "max      64.000000    53.130000     5.000000  63770.428010"
            ]
          },
          "metadata": {
            "tags": []
          },
          "execution_count": 5
        }
      ]
    },
    {
      "cell_type": "code",
      "metadata": {
        "colab": {
          "base_uri": "https://localhost:8080/"
        },
        "id": "xRwCfGDnDteD",
        "outputId": "dd01f679-2e29-4a94-909f-070f5f11d584"
      },
      "source": [
        "dataset.info()"
      ],
      "execution_count": 6,
      "outputs": [
        {
          "output_type": "stream",
          "text": [
            "<class 'pandas.core.frame.DataFrame'>\n",
            "RangeIndex: 1338 entries, 0 to 1337\n",
            "Data columns (total 7 columns):\n",
            " #   Column    Non-Null Count  Dtype  \n",
            "---  ------    --------------  -----  \n",
            " 0   age       1338 non-null   int64  \n",
            " 1   sex       1338 non-null   object \n",
            " 2   bmi       1338 non-null   float64\n",
            " 3   children  1338 non-null   int64  \n",
            " 4   smoker    1338 non-null   object \n",
            " 5   region    1338 non-null   object \n",
            " 6   charges   1338 non-null   float64\n",
            "dtypes: float64(2), int64(2), object(3)\n",
            "memory usage: 73.3+ KB\n"
          ],
          "name": "stdout"
        }
      ]
    },
    {
      "cell_type": "code",
      "metadata": {
        "colab": {
          "base_uri": "https://localhost:8080/",
          "height": 279
        },
        "id": "EIqK7iApERuF",
        "outputId": "76991b8b-c367-491e-9945-2f6da6f0862b"
      },
      "source": [
        "hist = sns.histplot(data=dataset['smoker'])"
      ],
      "execution_count": 7,
      "outputs": [
        {
          "output_type": "display_data",
          "data": {
            "image/png": "[encoded data removed]",
            "text/plain": [
              "<Figure size 432x288 with 1 Axes>"
            ]
          },
          "metadata": {
            "tags": [],
            "needs_background": "light"
          }
        }
      ]
    },
    {
      "cell_type": "code",
      "metadata": {
        "colab": {
          "base_uri": "https://localhost:8080/"
        },
        "id": "G66GFWqWMFut",
        "outputId": "6e1f1fd6-a79f-4543-f693-388261033a5d"
      },
      "source": [
        "len(dataset[dataset['smoker']=='no'])"
      ],
      "execution_count": 8,
      "outputs": [
        {
          "output_type": "execute_result",
          "data": {
            "text/plain": [
              "1064"
            ]
          },
          "metadata": {
            "tags": []
          },
          "execution_count": 8
        }
      ]
    },
    {
      "cell_type": "code",
      "metadata": {
        "colab": {
          "base_uri": "https://localhost:8080/",
          "height": 204
        },
        "id": "zb8WIOqiN3BL",
        "outputId": "d67183aa-5c83-4f8a-f04a-6c3a72d55778"
      },
      "source": [
        "dataset[dataset['smoker']=='yes'].head()"
      ],
      "execution_count": 9,
      "outputs": [
        {
          "output_type": "execute_result",
          "data": {
            "text/html": [
              "<div>\n",
              "<style scoped>\n",
              "    .dataframe tbody tr th:only-of-type {\n",
              "        vertical-align: middle;\n",
              "    }\n",
              "\n",
              "    .dataframe tbody tr th {\n",
              "        vertical-align: top;\n",
              "    }\n",
              "\n",
              "    .dataframe thead th {\n",
              "        text-align: right;\n",
              "    }\n",
              "</style>\n",
              "<table border=\"1\" class=\"dataframe\">\n",
              "  <thead>\n",
              "    <tr style=\"text-align: right;\">\n",
              "      <th></th>\n",
              "      <th>age</th>\n",
              "      <th>sex</th>\n",
              "      <th>bmi</th>\n",
              "      <th>children</th>\n",
              "      <th>smoker</th>\n",
              "      <th>region</th>\n",
              "      <th>charges</th>\n",
              "    </tr>\n",
              "  </thead>\n",
              "  <tbody>\n",
              "    <tr>\n",
              "      <th>0</th>\n",
              "      <td>19</td>\n",
              "      <td>female</td>\n",
              "      <td>27.90</td>\n",
              "      <td>0</td>\n",
              "      <td>yes</td>\n",
              "      <td>southwest</td>\n",
              "      <td>16884.9240</td>\n",
              "    </tr>\n",
              "    <tr>\n",
              "      <th>11</th>\n",
              "      <td>62</td>\n",
              "      <td>female</td>\n",
              "      <td>26.29</td>\n",
              "      <td>0</td>\n",
              "      <td>yes</td>\n",
              "      <td>southeast</td>\n",
              "      <td>27808.7251</td>\n",
              "    </tr>\n",
              "    <tr>\n",
              "      <th>14</th>\n",
              "      <td>27</td>\n",
              "      <td>male</td>\n",
              "      <td>42.13</td>\n",
              "      <td>0</td>\n",
              "      <td>yes</td>\n",
              "      <td>southeast</td>\n",
              "      <td>39611.7577</td>\n",
              "    </tr>\n",
              "    <tr>\n",
              "      <th>19</th>\n",
              "      <td>30</td>\n",
              "      <td>male</td>\n",
              "      <td>35.30</td>\n",
              "      <td>0</td>\n",
              "      <td>yes</td>\n",
              "      <td>southwest</td>\n",
              "      <td>36837.4670</td>\n",
              "    </tr>\n",
              "    <tr>\n",
              "      <th>23</th>\n",
              "      <td>34</td>\n",
              "      <td>female</td>\n",
              "      <td>31.92</td>\n",
              "      <td>1</td>\n",
              "      <td>yes</td>\n",
              "      <td>northeast</td>\n",
              "      <td>37701.8768</td>\n",
              "    </tr>\n",
              "  </tbody>\n",
              "</table>\n",
              "</div>"
            ],
            "text/plain": [
              "    age     sex    bmi  children smoker     region     charges\n",
              "0    19  female  27.90         0    yes  southwest  16884.9240\n",
              "11   62  female  26.29         0    yes  southeast  27808.7251\n",
              "14   27    male  42.13         0    yes  southeast  39611.7577\n",
              "19   30    male  35.30         0    yes  southwest  36837.4670\n",
              "23   34  female  31.92         1    yes  northeast  37701.8768"
            ]
          },
          "metadata": {
            "tags": []
          },
          "execution_count": 9
        }
      ]
    },
    {
      "cell_type": "code",
      "metadata": {
        "colab": {
          "base_uri": "https://localhost:8080/",
          "height": 281
        },
        "id": "W8lX1XdqOF1h",
        "outputId": "6e8723a0-ec4c-4765-a5f2-e2bcb72500ee"
      },
      "source": [
        "plt.hist(dataset['region'])\n",
        "plt.title('histogram of region')\n",
        "plt.show()"
      ],
      "execution_count": 10,
      "outputs": [
        {
          "output_type": "display_data",
          "data": {
            "image/png": "[encoded data removed]",
            "text/plain": [
              "<Figure size 432x288 with 1 Axes>"
            ]
          },
          "metadata": {
            "tags": [],
            "needs_background": "light"
          }
        }
      ]
    },
    {
      "cell_type": "code",
      "metadata": {
        "colab": {
          "base_uri": "https://localhost:8080/",
          "height": 283
        },
        "id": "ESJ3U07GQP3x",
        "outputId": "e04c8dfb-0137-44f7-fbd7-2ad6810f7f0d"
      },
      "source": [
        "barplot = sns.barplot(x='smoker', y='charges', data = dataset)\n",
        "plt.show()"
      ],
      "execution_count": 11,
      "outputs": [
        {
          "output_type": "display_data",
          "data": {
            "image/png": "[encoded data removed]",
            "text/plain": [
              "<Figure size 432x288 with 1 Axes>"
            ]
          },
          "metadata": {
            "tags": [],
            "needs_background": "light"
          }
        }
      ]
    },
    {
      "cell_type": "code",
      "metadata": {
        "colab": {
          "base_uri": "https://localhost:8080/",
          "height": 295
        },
        "id": "8foQVf_jS7Zf",
        "outputId": "94caf9c9-2f6c-4fe5-863f-71e5059eda3d"
      },
      "source": [
        "barplot = sns.barplot(x='smoker', y='bmi', data = dataset)\n",
        "barplot.set_title('plot of smoker vs bmi')\n",
        "plt.show()"
      ],
      "execution_count": 12,
      "outputs": [
        {
          "output_type": "display_data",
          "data": {
            "image/png": "[encoded data removed]",
            "text/plain": [
              "<Figure size 432x288 with 1 Axes>"
            ]
          },
          "metadata": {
            "tags": [],
            "needs_background": "light"
          }
        }
      ]
    },
    {
      "cell_type": "code",
      "metadata": {
        "colab": {
          "base_uri": "https://localhost:8080/",
          "height": 344
        },
        "id": "gByFpz1nRkIA",
        "outputId": "0df51b2e-4185-488c-e9ab-1dac9c801b10"
      },
      "source": [
        "dist = sns.distplot(dataset['charges'])"
      ],
      "execution_count": 13,
      "outputs": [
        {
          "output_type": "stream",
          "text": [
            "/usr/local/lib/python3.7/dist-packages/seaborn/distributions.py:2557: FutureWarning: `distplot` is a deprecated function and will be removed in a future version. Please adapt your code to use either `displot` (a figure-level function with similar flexibility) or `histplot` (an axes-level function for histograms).\n",
            "  warnings.warn(msg, FutureWarning)\n"
          ],
          "name": "stderr"
        },
        {
          "output_type": "display_data",
          "data": {
            "image/png": "[encoded data removed]",
            "text/plain": [
              "<Figure size 432x288 with 1 Axes>"
            ]
          },
          "metadata": {
            "tags": [],
            "needs_background": "light"
          }
        }
      ]
    },
    {
      "cell_type": "code",
      "metadata": {
        "colab": {
          "base_uri": "https://localhost:8080/",
          "height": 366
        },
        "id": "kvsCZekET7Go",
        "outputId": "125307d2-2f09-4cef-85a7-ab0ecdde43eb"
      },
      "source": [
        "boxplot = sns.boxplot(dataset['smoker'], dataset['charges'])\n",
        "boxplot.set_title('box plot of charges vs smoker')"
      ],
      "execution_count": 14,
      "outputs": [
        {
          "output_type": "stream",
          "text": [
            "/usr/local/lib/python3.7/dist-packages/seaborn/_decorators.py:43: FutureWarning: Pass the following variables as keyword args: x, y. From version 0.12, the only valid positional argument will be `data`, and passing other arguments without an explicit keyword will result in an error or misinterpretation.\n",
            "  FutureWarning\n"
          ],
          "name": "stderr"
        },
        {
          "output_type": "execute_result",
          "data": {
            "text/plain": [
              "Text(0.5, 1.0, 'box plot of charges vs smoker')"
            ]
          },
          "metadata": {
            "tags": []
          },
          "execution_count": 14
        },
        {
          "output_type": "display_data",
          "data": {
            "image/png": "[encoded data removed]",
            "text/plain": [
              "<Figure size 432x288 with 1 Axes>"
            ]
          },
          "metadata": {
            "tags": [],
            "needs_background": "light"
          }
        }
      ]
    },
    {
      "cell_type": "code",
      "metadata": {
        "colab": {
          "base_uri": "https://localhost:8080/",
          "height": 471
        },
        "id": "MfSXl-dFVwU9",
        "outputId": "5df5eccc-b3ca-4a52-cf0f-7360db5bc348"
      },
      "source": [
        "factor = sns.factorplot('children', 'charges', data = dataset, aspect = 2.2)"
      ],
      "execution_count": 15,
      "outputs": [
        {
          "output_type": "stream",
          "text": [
            "/usr/local/lib/python3.7/dist-packages/seaborn/categorical.py:3714: UserWarning: The `factorplot` function has been renamed to `catplot`. The original name will be removed in a future release. Please update your code. Note that the default `kind` in `factorplot` (`'point'`) has changed `'strip'` in `catplot`.\n",
            "  warnings.warn(msg)\n",
            "/usr/local/lib/python3.7/dist-packages/seaborn/_decorators.py:43: FutureWarning: Pass the following variables as keyword args: x, y. From version 0.12, the only valid positional argument will be `data`, and passing other arguments without an explicit keyword will result in an error or misinterpretation.\n",
            "  FutureWarning\n"
          ],
          "name": "stderr"
        },
        {
          "output_type": "display_data",
          "data": {
            "image/png": "[encoded data removed]",
            "text/plain": [
              "<Figure size 792x360 with 1 Axes>"
            ]
          },
          "metadata": {
            "tags": [],
            "needs_background": "light"
          }
        }
      ]
    },
    {
      "cell_type": "markdown",
      "metadata": {
        "id": "9g1y9zl-UKKJ"
      },
      "source": [
        "# Data Transformation\n"
      ]
    },
    {
      "cell_type": "code",
      "metadata": {
        "colab": {
          "base_uri": "https://localhost:8080/",
          "height": 111
        },
        "id": "xIVoEOiGUW1X",
        "outputId": "a6818c26-ab47-4f73-d6d2-26b072258a72"
      },
      "source": [
        "dataset.head(n=2)"
      ],
      "execution_count": 16,
      "outputs": [
        {
          "output_type": "execute_result",
          "data": {
            "text/html": [
              "<div>\n",
              "<style scoped>\n",
              "    .dataframe tbody tr th:only-of-type {\n",
              "        vertical-align: middle;\n",
              "    }\n",
              "\n",
              "    .dataframe tbody tr th {\n",
              "        vertical-align: top;\n",
              "    }\n",
              "\n",
              "    .dataframe thead th {\n",
              "        text-align: right;\n",
              "    }\n",
              "</style>\n",
              "<table border=\"1\" class=\"dataframe\">\n",
              "  <thead>\n",
              "    <tr style=\"text-align: right;\">\n",
              "      <th></th>\n",
              "      <th>age</th>\n",
              "      <th>sex</th>\n",
              "      <th>bmi</th>\n",
              "      <th>children</th>\n",
              "      <th>smoker</th>\n",
              "      <th>region</th>\n",
              "      <th>charges</th>\n",
              "    </tr>\n",
              "  </thead>\n",
              "  <tbody>\n",
              "    <tr>\n",
              "      <th>0</th>\n",
              "      <td>19</td>\n",
              "      <td>female</td>\n",
              "      <td>27.90</td>\n",
              "      <td>0</td>\n",
              "      <td>yes</td>\n",
              "      <td>southwest</td>\n",
              "      <td>16884.9240</td>\n",
              "    </tr>\n",
              "    <tr>\n",
              "      <th>1</th>\n",
              "      <td>18</td>\n",
              "      <td>male</td>\n",
              "      <td>33.77</td>\n",
              "      <td>1</td>\n",
              "      <td>no</td>\n",
              "      <td>southeast</td>\n",
              "      <td>1725.5523</td>\n",
              "    </tr>\n",
              "  </tbody>\n",
              "</table>\n",
              "</div>"
            ],
            "text/plain": [
              "   age     sex    bmi  children smoker     region     charges\n",
              "0   19  female  27.90         0    yes  southwest  16884.9240\n",
              "1   18    male  33.77         1     no  southeast   1725.5523"
            ]
          },
          "metadata": {
            "tags": []
          },
          "execution_count": 16
        }
      ]
    },
    {
      "cell_type": "code",
      "metadata": {
        "colab": {
          "base_uri": "https://localhost:8080/"
        },
        "id": "Po9W-Q5YVFj_",
        "outputId": "0066c1dc-2aa3-446e-c2e0-89575897cd5d"
      },
      "source": [
        "dataset['sex'].unique()"
      ],
      "execution_count": 17,
      "outputs": [
        {
          "output_type": "execute_result",
          "data": {
            "text/plain": [
              "array(['female', 'male'], dtype=object)"
            ]
          },
          "metadata": {
            "tags": []
          },
          "execution_count": 17
        }
      ]
    },
    {
      "cell_type": "code",
      "metadata": {
        "id": "v2b4AhZ9Ug57"
      },
      "source": [
        "dataset['sex'] = dataset['sex'].map({'female':0, 'male': 1})"
      ],
      "execution_count": 18,
      "outputs": []
    },
    {
      "cell_type": "code",
      "metadata": {
        "colab": {
          "base_uri": "https://localhost:8080/"
        },
        "id": "ZrZU6sd_VRxu",
        "outputId": "28f6209d-7367-446c-9cc4-e6d5ae39a4be"
      },
      "source": [
        "dataset.region.unique()"
      ],
      "execution_count": 19,
      "outputs": [
        {
          "output_type": "execute_result",
          "data": {
            "text/plain": [
              "array(['southwest', 'southeast', 'northwest', 'northeast'], dtype=object)"
            ]
          },
          "metadata": {
            "tags": []
          },
          "execution_count": 19
        }
      ]
    },
    {
      "cell_type": "code",
      "metadata": {
        "id": "g-2yQkuuVR0s"
      },
      "source": [
        "dataset['region'] = dataset['region'].replace({'southwest':0, 'southeast':1, \n",
        "                                               'northwest':2, 'northeast':3})"
      ],
      "execution_count": 20,
      "outputs": []
    },
    {
      "cell_type": "code",
      "metadata": {
        "colab": {
          "base_uri": "https://localhost:8080/"
        },
        "id": "RWvoGlQaV33T",
        "outputId": "5d730846-d596-43be-bd21-8144885cf54e"
      },
      "source": [
        "dataset.info()"
      ],
      "execution_count": 21,
      "outputs": [
        {
          "output_type": "stream",
          "text": [
            "<class 'pandas.core.frame.DataFrame'>\n",
            "RangeIndex: 1338 entries, 0 to 1337\n",
            "Data columns (total 7 columns):\n",
            " #   Column    Non-Null Count  Dtype  \n",
            "---  ------    --------------  -----  \n",
            " 0   age       1338 non-null   int64  \n",
            " 1   sex       1338 non-null   int64  \n",
            " 2   bmi       1338 non-null   float64\n",
            " 3   children  1338 non-null   int64  \n",
            " 4   smoker    1338 non-null   object \n",
            " 5   region    1338 non-null   int64  \n",
            " 6   charges   1338 non-null   float64\n",
            "dtypes: float64(2), int64(4), object(1)\n",
            "memory usage: 73.3+ KB\n"
          ],
          "name": "stdout"
        }
      ]
    },
    {
      "cell_type": "code",
      "metadata": {
        "id": "8nd_jbdbV6-H"
      },
      "source": [
        "dataset['smoker'] = dataset['smoker'].replace({'yes':1, 'no':0})"
      ],
      "execution_count": 22,
      "outputs": []
    },
    {
      "cell_type": "code",
      "metadata": {
        "colab": {
          "base_uri": "https://localhost:8080/"
        },
        "id": "za9XKaRVWhhW",
        "outputId": "fc88d469-97dc-4e9d-bf8c-18abaefc34d1"
      },
      "source": [
        "dataset.info()"
      ],
      "execution_count": 23,
      "outputs": [
        {
          "output_type": "stream",
          "text": [
            "<class 'pandas.core.frame.DataFrame'>\n",
            "RangeIndex: 1338 entries, 0 to 1337\n",
            "Data columns (total 7 columns):\n",
            " #   Column    Non-Null Count  Dtype  \n",
            "---  ------    --------------  -----  \n",
            " 0   age       1338 non-null   int64  \n",
            " 1   sex       1338 non-null   int64  \n",
            " 2   bmi       1338 non-null   float64\n",
            " 3   children  1338 non-null   int64  \n",
            " 4   smoker    1338 non-null   int64  \n",
            " 5   region    1338 non-null   int64  \n",
            " 6   charges   1338 non-null   float64\n",
            "dtypes: float64(2), int64(5)\n",
            "memory usage: 73.3 KB\n"
          ],
          "name": "stdout"
        }
      ]
    },
    {
      "cell_type": "code",
      "metadata": {
        "id": "SWbKj9mFXVZ8"
      },
      "source": [
        "dataset['bmi'] = dataset['bmi'].astype(int)"
      ],
      "execution_count": 24,
      "outputs": []
    },
    {
      "cell_type": "code",
      "metadata": {
        "id": "x-I5GqI2XiIF"
      },
      "source": [
        "dataset['charges'] = dataset['charges'].astype(int)"
      ],
      "execution_count": 25,
      "outputs": []
    },
    {
      "cell_type": "code",
      "metadata": {
        "colab": {
          "base_uri": "https://localhost:8080/"
        },
        "id": "6CikScOXXra-",
        "outputId": "d311847e-261d-4b1f-87d8-f3a59fcde921"
      },
      "source": [
        "dataset.info()"
      ],
      "execution_count": 26,
      "outputs": [
        {
          "output_type": "stream",
          "text": [
            "<class 'pandas.core.frame.DataFrame'>\n",
            "RangeIndex: 1338 entries, 0 to 1337\n",
            "Data columns (total 7 columns):\n",
            " #   Column    Non-Null Count  Dtype\n",
            "---  ------    --------------  -----\n",
            " 0   age       1338 non-null   int64\n",
            " 1   sex       1338 non-null   int64\n",
            " 2   bmi       1338 non-null   int64\n",
            " 3   children  1338 non-null   int64\n",
            " 4   smoker    1338 non-null   int64\n",
            " 5   region    1338 non-null   int64\n",
            " 6   charges   1338 non-null   int64\n",
            "dtypes: int64(7)\n",
            "memory usage: 73.3 KB\n"
          ],
          "name": "stdout"
        }
      ]
    },
    {
      "cell_type": "code",
      "metadata": {
        "colab": {
          "base_uri": "https://localhost:8080/",
          "height": 204
        },
        "id": "3I1Q3OboXtoP",
        "outputId": "708fd5f1-312b-4306-deef-9cfd24e2cbdb"
      },
      "source": [
        "dataset.head(n=5)"
      ],
      "execution_count": 27,
      "outputs": [
        {
          "output_type": "execute_result",
          "data": {
            "text/html": [
              "<div>\n",
              "<style scoped>\n",
              "    .dataframe tbody tr th:only-of-type {\n",
              "        vertical-align: middle;\n",
              "    }\n",
              "\n",
              "    .dataframe tbody tr th {\n",
              "        vertical-align: top;\n",
              "    }\n",
              "\n",
              "    .dataframe thead th {\n",
              "        text-align: right;\n",
              "    }\n",
              "</style>\n",
              "<table border=\"1\" class=\"dataframe\">\n",
              "  <thead>\n",
              "    <tr style=\"text-align: right;\">\n",
              "      <th></th>\n",
              "      <th>age</th>\n",
              "      <th>sex</th>\n",
              "      <th>bmi</th>\n",
              "      <th>children</th>\n",
              "      <th>smoker</th>\n",
              "      <th>region</th>\n",
              "      <th>charges</th>\n",
              "    </tr>\n",
              "  </thead>\n",
              "  <tbody>\n",
              "    <tr>\n",
              "      <th>0</th>\n",
              "      <td>19</td>\n",
              "      <td>0</td>\n",
              "      <td>27</td>\n",
              "      <td>0</td>\n",
              "      <td>1</td>\n",
              "      <td>0</td>\n",
              "      <td>16884</td>\n",
              "    </tr>\n",
              "    <tr>\n",
              "      <th>1</th>\n",
              "      <td>18</td>\n",
              "      <td>1</td>\n",
              "      <td>33</td>\n",
              "      <td>1</td>\n",
              "      <td>0</td>\n",
              "      <td>1</td>\n",
              "      <td>1725</td>\n",
              "    </tr>\n",
              "    <tr>\n",
              "      <th>2</th>\n",
              "      <td>28</td>\n",
              "      <td>1</td>\n",
              "      <td>33</td>\n",
              "      <td>3</td>\n",
              "      <td>0</td>\n",
              "      <td>1</td>\n",
              "      <td>4449</td>\n",
              "    </tr>\n",
              "    <tr>\n",
              "      <th>3</th>\n",
              "      <td>33</td>\n",
              "      <td>1</td>\n",
              "      <td>22</td>\n",
              "      <td>0</td>\n",
              "      <td>0</td>\n",
              "      <td>2</td>\n",
              "      <td>21984</td>\n",
              "    </tr>\n",
              "    <tr>\n",
              "      <th>4</th>\n",
              "      <td>32</td>\n",
              "      <td>1</td>\n",
              "      <td>28</td>\n",
              "      <td>0</td>\n",
              "      <td>0</td>\n",
              "      <td>2</td>\n",
              "      <td>3866</td>\n",
              "    </tr>\n",
              "  </tbody>\n",
              "</table>\n",
              "</div>"
            ],
            "text/plain": [
              "   age  sex  bmi  children  smoker  region  charges\n",
              "0   19    0   27         0       1       0    16884\n",
              "1   18    1   33         1       0       1     1725\n",
              "2   28    1   33         3       0       1     4449\n",
              "3   33    1   22         0       0       2    21984\n",
              "4   32    1   28         0       0       2     3866"
            ]
          },
          "metadata": {
            "tags": []
          },
          "execution_count": 27
        }
      ]
    },
    {
      "cell_type": "code",
      "metadata": {
        "id": "lLsw1H8UYR5w"
      },
      "source": [
        "X = dataset.drop(['charges'], axis=1).values\n",
        "y = dataset['charges'].values"
      ],
      "execution_count": 28,
      "outputs": []
    },
    {
      "cell_type": "markdown",
      "metadata": {
        "id": "GqjRLyHvYBPk"
      },
      "source": [
        "# Splitting into training and test set"
      ]
    },
    {
      "cell_type": "code",
      "metadata": {
        "id": "KmZHyD3IYHK7"
      },
      "source": [
        "from sklearn.model_selection import train_test_split\n",
        "X_train, X_test, y_train, y_test = train_test_split(X,y, test_size=0.2, random_state=0)"
      ],
      "execution_count": 29,
      "outputs": []
    },
    {
      "cell_type": "code",
      "metadata": {
        "id": "JE3xHWq1ZNL7"
      },
      "source": [
        ""
      ],
      "execution_count": 29,
      "outputs": []
    },
    {
      "cell_type": "markdown",
      "metadata": {
        "id": "_gh9EjUhZn40"
      },
      "source": [
        "# Training the regression model on the Training set"
      ]
    },
    {
      "cell_type": "code",
      "metadata": {
        "colab": {
          "base_uri": "https://localhost:8080/"
        },
        "id": "whAq6Bu_aKOi",
        "outputId": "2f21dcb8-9c2a-4ae6-a0e4-6e07afe58062"
      },
      "source": [
        "from sklearn.linear_model import LinearRegression\n",
        "regressor = LinearRegression()\n",
        "regressor.fit(X_train, y_train)"
      ],
      "execution_count": 30,
      "outputs": [
        {
          "output_type": "execute_result",
          "data": {
            "text/plain": [
              "LinearRegression(copy_X=True, fit_intercept=True, n_jobs=None, normalize=False)"
            ]
          },
          "metadata": {
            "tags": []
          },
          "execution_count": 30
        }
      ]
    },
    {
      "cell_type": "code",
      "metadata": {
        "colab": {
          "base_uri": "https://localhost:8080/"
        },
        "id": "7FUHcIbxamXN",
        "outputId": "31435a5e-e252-4e31-b04c-bdfcc171794f"
      },
      "source": [
        "y_pred = regressor.predict(X_test)\n",
        "np.set_printoptions(precision=2)\n",
        "print(np.concatenate((y_pred.reshape(len(y_pred), 1 ), y_test.reshape(len(y_test),1 )), 1))"
      ],
      "execution_count": 31,
      "outputs": [
        {
          "output_type": "stream",
          "text": [
            "[[11103.86  9724.  ]\n",
            " [ 9823.76  8547.  ]\n",
            " [37977.29 45702.  ]\n",
            " [16148.33 12950.  ]\n",
            " [ 7080.68  9644.  ]\n",
            " [ 4012.78  4500.  ]\n",
            " [ 1611.44  2198.  ]\n",
            " [14321.95 11436.  ]\n",
            " [ 9053.9   7537.  ]\n",
            " [ 7578.36  5425.  ]\n",
            " [ 4726.66  6753.  ]\n",
            " [10343.69 10493.  ]\n",
            " [ 8514.99  7337.  ]\n",
            " [ 4181.25  4185.  ]\n",
            " [27815.23 18310.  ]\n",
            " [11154.31 10702.  ]\n",
            " [11307.64 12523.  ]\n",
            " [ 6032.42  3490.  ]\n",
            " [ 8253.26  6457.  ]\n",
            " [26984.95 33475.  ]\n",
            " [33497.47 23967.  ]\n",
            " [14161.18 12643.  ]\n",
            " [11558.79 23045.  ]\n",
            " [32300.45 23065.  ]\n",
            " [ 4310.55  1674.  ]\n",
            " [ 9194.67  4667.  ]\n",
            " [ 1203.13  3732.  ]\n",
            " [10252.14  7682.  ]\n",
            " [ 4000.82  3756.  ]\n",
            " [10359.06  8413.  ]\n",
            " [ 8906.72  8059.  ]\n",
            " [40358.48 48970.  ]\n",
            " [15489.4  12979.  ]\n",
            " [13711.22 20630.  ]\n",
            " [24749.85 14571.  ]\n",
            " [ 4987.37  4137.  ]\n",
            " [12941.36  8347.  ]\n",
            " [30552.92 51194.  ]\n",
            " [33349.12 40003.  ]\n",
            " [ 3534.82  1880.  ]\n",
            " [ 3890.57  5458.  ]\n",
            " [ 4123.02  2867.  ]\n",
            " [30500.97 20149.  ]\n",
            " [39207.08 47496.  ]\n",
            " [27882.26 36149.  ]\n",
            " [ 4942.65 26018.  ]\n",
            " [10826.69 19749.  ]\n",
            " [ 7838.46  6940.  ]\n",
            " [ 3469.7   4718.  ]\n",
            " [10398.31 22192.  ]\n",
            " [ 5502.52  2899.  ]\n",
            " [ 3244.55 18838.  ]\n",
            " [33012.49 23568.  ]\n",
            " [38522.21 46255.  ]\n",
            " [16101.42 24227.  ]\n",
            " [ 7075.28  3268.  ]\n",
            " [ 5981.89  2322.  ]\n",
            " [ 9422.62  8827.  ]\n",
            " [ 9264.38 14478.  ]\n",
            " [11755.69 13112.  ]\n",
            " [ 1617.71  1253.  ]\n",
            " [38705.52 46718.  ]\n",
            " [15307.68 13919.  ]\n",
            " [11699.09  9630.  ]\n",
            " [13947.99 10736.  ]\n",
            " [13823.38  9880.  ]\n",
            " [26145.59 32548.  ]\n",
            " [32141.19 38746.  ]\n",
            " [ 1046.18  3180.  ]\n",
            " [ 9985.02  8162.  ]\n",
            " [12311.79 13041.  ]\n",
            " [11683.8  11554.  ]\n",
            " [25124.09 16232.  ]\n",
            " [15733.46 13887.  ]\n",
            " [11332.62 13012.  ]\n",
            " [12608.15 13217.  ]\n",
            " [ 6510.7   7147.  ]\n",
            " [ 9812.36  7731.  ]\n",
            " [30138.33 20296.  ]\n",
            " [38935.77 47403.  ]\n",
            " [11919.66 11658.  ]\n",
            " [37509.1  45863.  ]\n",
            " [ 4275.6   2055.  ]\n",
            " [ 9325.67  7441.  ]\n",
            " [34586.07 41034.  ]\n",
            " [29213.98 18972.  ]\n",
            " [ 8455.59  3410.  ]\n",
            " [ 4964.09  2699.  ]\n",
            " [11899.18 12333.  ]\n",
            " [30285.3  36837.  ]\n",
            " [10115.75  6334.  ]\n",
            " [11090.27 10214.  ]\n",
            " [ 8303.9  17878.  ]\n",
            " [ 9108.52  8515.  ]\n",
            " [ 8271.82  4518.  ]\n",
            " [ 7253.94  5148.  ]\n",
            " [35875.86 42303.  ]\n",
            " [33099.67 38998.  ]\n",
            " [ 7482.91  5327.  ]\n",
            " [14948.1  10602.  ]\n",
            " [ 4236.96  1824.  ]\n",
            " [ 8607.63  5377.  ]\n",
            " [ 6755.79  4349.  ]\n",
            " [31774.51 37742.  ]\n",
            " [32969.76 32787.  ]\n",
            " [ 1966.91  3353.  ]\n",
            " [ 9050.96 10577.  ]\n",
            " [ 6479.98  3556.  ]\n",
            " [14368.44 11944.  ]\n",
            " [36923.23 52590.  ]\n",
            " [10169.75 12475.  ]\n",
            " [10842.66  4266.  ]\n",
            " [10042.83  9249.  ]\n",
            " [26804.52 33732.  ]\n",
            " [40178.05 48675.  ]\n",
            " [ 8579.17  7729.  ]\n",
            " [  354.07  1964.  ]\n",
            " [ 8837.28  8444.  ]\n",
            " [15175.37 12347.  ]\n",
            " [ 9423.04  9301.  ]\n",
            " [35224.45 42124.  ]\n",
            " [ 7334.7   9991.  ]\n",
            " [16677.67 14319.  ]\n",
            " [ 9582.71  5428.  ]\n",
            " [ 8113.77  7626.  ]\n",
            " [ 3043.44  4906.  ]\n",
            " [33006.21 23401.  ]\n",
            " [31318.08 21098.  ]\n",
            " [39216.56 48173.  ]\n",
            " [ 5332.05  1917.  ]\n",
            " [ 9509.73  8219.  ]\n",
            " [ 3742.5   1725.  ]\n",
            " [ 7865.14  5976.  ]\n",
            " [ 8658.84  9361.  ]\n",
            " [31695.52 22144.  ]\n",
            " [29663.31 35491.  ]\n",
            " [30022.48 19515.  ]\n",
            " [ 9068.17 10107.  ]\n",
            " [32634.56 23244.  ]\n",
            " [ 3339.58  2789.  ]\n",
            " [ 3464.91  2261.  ]\n",
            " [11020.37 10594.  ]\n",
            " [13375.82  9304.  ]\n",
            " [12697.1  10435.  ]\n",
            " [ 5478.63  4894.  ]\n",
            " [15659.86 14313.  ]\n",
            " [15165.4  28287.  ]\n",
            " [ 2502.14 14426.  ]\n",
            " [  -90.28  1627.  ]\n",
            " [10851.82 25517.  ]\n",
            " [ 7467.62  6555.  ]\n",
            " [32109.22 39611.  ]\n",
            " [12383.07  9964.  ]\n",
            " [ 2759.64  1720.  ]\n",
            " [ 6279.89  2730.  ]\n",
            " [ 8045.58  6500.  ]\n",
            " [ 4396.03  2643.  ]\n",
            " [ 2432.02  1719.  ]\n",
            " [11446.98 11085.  ]\n",
            " [12322.99 10115.  ]\n",
            " [ 7182.54  4846.  ]\n",
            " [16437.3  12982.  ]\n",
            " [11660.24 28923.  ]\n",
            " [13798.4   9391.  ]\n",
            " [ 3202.09  4544.  ]\n",
            " [ 7196.13 17128.  ]\n",
            " [22929.34 13844.  ]\n",
            " [ 7568.39  6113.  ]\n",
            " [ 5336.84  4441.  ]\n",
            " [ 5285.14  1633.  ]\n",
            " [ 6769.44  4058.  ]\n",
            " [ 5022.81  4435.  ]\n",
            " [ 9875.99  8310.  ]\n",
            " [ 5473.84  1986.  ]\n",
            " [ 5649.3   4260.  ]\n",
            " [ 6864.82  4504.  ]\n",
            " [ 3712.33  4428.  ]\n",
            " [ 5438.29  6117.  ]\n",
            " [37908.49 30184.  ]\n",
            " [ 1586.45  1708.  ]\n",
            " [12489.84 11187.  ]\n",
            " [ 8774.9   6796.  ]\n",
            " [13821.75 11356.  ]\n",
            " [ 5580.68  2498.  ]\n",
            " [ 5236.49 27375.  ]\n",
            " [36343.57 28101.  ]\n",
            " [ 4240.65  2254.  ]\n",
            " [ 1943.56  2597.  ]\n",
            " [14969.68 14692.  ]\n",
            " [12675.67 10370.  ]\n",
            " [34933.35 41097.  ]\n",
            " [ 4937.26  3981.  ]\n",
            " [ 5426.33  5472.  ]\n",
            " [31546.63 21223.  ]\n",
            " [ 6020.54  2534.  ]\n",
            " [ 1904.99  1972.  ]\n",
            " [ 8291.9   6406.  ]\n",
            " [10042.15  6551.  ]\n",
            " [ 8295.3   4058.  ]\n",
            " [ 5699.41  4243.  ]\n",
            " [13170.13 11512.  ]\n",
            " [38559.62 46889.  ]\n",
            " [13579.54 12268.  ]\n",
            " [28607.28 19199.  ]\n",
            " [ 6622.26  4433.  ]\n",
            " [35697.06 42969.  ]\n",
            " [ 3605.49 23241.  ]\n",
            " [12258.95  9140.  ]\n",
            " [ 9189.21  5836.  ]\n",
            " [ 6570.64  1149.  ]\n",
            " [11328.32  8765.  ]\n",
            " [14426.67 14043.  ]\n",
            " [ 5203.17  5312.  ]\n",
            " [ 4296.89 10795.  ]\n",
            " [ 7654.33  6282.  ]\n",
            " [ 1249.75  1969.  ]\n",
            " [ 7830.68  6746.  ]\n",
            " [ 4559.4   5354.  ]\n",
            " [13112.93 14001.  ]\n",
            " [ 4385.46  6877.  ]\n",
            " [10073.41  6196.  ]\n",
            " [ 7307.27  7986.  ]\n",
            " [ 9009.45  8277.  ]\n",
            " [ 2406.76  3206.  ]\n",
            " [13187.8  11848.  ]\n",
            " [16582.79 14210.  ]\n",
            " [15178.99 12265.  ]\n",
            " [10566.85 11837.  ]\n",
            " [ 5787.69  6652.  ]\n",
            " [ 2451.68  2137.  ]\n",
            " [ 2311.59  1131.  ]\n",
            " [13406.27  8342.  ]\n",
            " [14389.73 12244.  ]\n",
            " [ 5041.72  4561.  ]\n",
            " [ 4047.66 17626.  ]\n",
            " [ 9412.85  6875.  ]\n",
            " [10007.88  9447.  ]\n",
            " [28328.68 34254.  ]\n",
            " [ 7770.26  6067.  ]\n",
            " [10415.58 11729.  ]\n",
            " [ 6141.57  5383.  ]\n",
            " [29674.52 37465.  ]\n",
            " [11075.93  7371.  ]\n",
            " [ 7634.47  7325.  ]\n",
            " [10299.05  8410.  ]\n",
            " [12270.84 10461.  ]\n",
            " [ 2917.01  3279.  ]\n",
            " [10738.42  7727.  ]\n",
            " [ 1644.68  2731.  ]\n",
            " [ 6894.24  6858.  ]\n",
            " [28757.67 19521.  ]\n",
            " [38606.38 47305.  ]\n",
            " [ 6282.69  3987.  ]\n",
            " [ 8494.23  3238.  ]\n",
            " [ 2594.29  7323.  ]\n",
            " [  275.98  1704.  ]\n",
            " [10308.53  7445.  ]\n",
            " [ 4302.29  1629.  ]\n",
            " [ 4864.16  4877.  ]\n",
            " [ 2777.53  3561.  ]\n",
            " [ 7238.25  8605.  ]\n",
            " [33217.9  24520.  ]\n",
            " [38309.28 45710.  ]\n",
            " [14702.48 15019.  ]\n",
            " [ 8239.67  6664.  ]\n",
            " [16080.13 20709.  ]\n",
            " [33257.57 40932.  ]\n",
            " [ 9388.08  9500.  ]]\n"
          ],
          "name": "stdout"
        }
      ]
    },
    {
      "cell_type": "code",
      "metadata": {
        "colab": {
          "base_uri": "https://localhost:8080/"
        },
        "id": "qwDxcH_e3zl8",
        "outputId": "d6e0cb6e-b602-46cd-e85c-e663045d27e6"
      },
      "source": [
        "from sklearn.metrics import r2_score\n",
        "r2_score(y_test, y_pred)\n"
      ],
      "execution_count": 32,
      "outputs": [
        {
          "output_type": "execute_result",
          "data": {
            "text/plain": [
              "0.7994955354992439"
            ]
          },
          "metadata": {
            "tags": []
          },
          "execution_count": 32
        }
      ]
    },
    {
      "cell_type": "code",
      "metadata": {
        "colab": {
          "base_uri": "https://localhost:8080/"
        },
        "id": "yGqpfg2pbAhP",
        "outputId": "20593da3-1ee2-43bd-c98d-3692498f103b"
      },
      "source": [
        "from sklearn.svm import  SVR\n",
        "regressor_svm = SVR(kernel = 'rbf')\n",
        "regressor_svm.fit(X_train, y_train)"
      ],
      "execution_count": 33,
      "outputs": [
        {
          "output_type": "execute_result",
          "data": {
            "text/plain": [
              "SVR(C=1.0, cache_size=200, coef0=0.0, degree=3, epsilon=0.1, gamma='scale',\n",
              "    kernel='rbf', max_iter=-1, shrinking=True, tol=0.001, verbose=False)"
            ]
          },
          "metadata": {
            "tags": []
          },
          "execution_count": 33
        }
      ]
    },
    {
      "cell_type": "code",
      "metadata": {
        "colab": {
          "base_uri": "https://localhost:8080/"
        },
        "id": "frHrA6_1x3al",
        "outputId": "bedd9503-8104-4a4e-f0f7-edc376beab41"
      },
      "source": [
        "y_pred = regressor_svm.predict(X_test)\n",
        "np.set_printoptions(precision=2)\n",
        "print(np.concatenate((y_pred.reshape(len(y_pred), 1), y_test.reshape(len(y_test),1)),1))"
      ],
      "execution_count": 34,
      "outputs": [
        {
          "output_type": "stream",
          "text": [
            "[[ 9470.41  9724.  ]\n",
            " [ 9438.3   8547.  ]\n",
            " [ 9447.69 45702.  ]\n",
            " [ 9515.3  12950.  ]\n",
            " [ 9455.92  9644.  ]\n",
            " [ 9351.78  4500.  ]\n",
            " [ 9285.51  2198.  ]\n",
            " [ 9465.88 11436.  ]\n",
            " [ 9378.21  7537.  ]\n",
            " [ 9336.    5425.  ]\n",
            " [ 9352.46  6753.  ]\n",
            " [ 9456.28 10493.  ]\n",
            " [ 9411.17  7337.  ]\n",
            " [ 9345.46  4185.  ]\n",
            " [ 9314.91 18310.  ]\n",
            " [ 9457.27 10702.  ]\n",
            " [ 9507.71 12523.  ]\n",
            " [ 9311.91  3490.  ]\n",
            " [ 9377.73  6457.  ]\n",
            " [ 9290.58 33475.  ]\n",
            " [ 9461.28 23967.  ]\n",
            " [ 9493.92 12643.  ]\n",
            " [ 9470.62 23045.  ]\n",
            " [ 9437.5  23065.  ]\n",
            " [ 9297.34  1674.  ]\n",
            " [ 9345.5   4667.  ]\n",
            " [ 9323.27  3732.  ]\n",
            " [ 9392.73  7682.  ]\n",
            " [ 9334.28  3756.  ]\n",
            " [ 9425.42  8413.  ]\n",
            " [ 9390.73  8059.  ]\n",
            " [ 9505.56 48970.  ]\n",
            " [ 9519.16 12979.  ]\n",
            " [ 9488.23 20630.  ]\n",
            " [ 9305.34 14571.  ]\n",
            " [ 9329.35  4137.  ]\n",
            " [ 9434.53  8347.  ]\n",
            " [ 9323.93 51194.  ]\n",
            " [ 9392.52 40003.  ]\n",
            " [ 9291.63  1880.  ]\n",
            " [ 9363.83  5458.  ]\n",
            " [ 9323.96  2867.  ]\n",
            " [ 9383.6  20149.  ]\n",
            " [ 9503.68 47496.  ]\n",
            " [ 9289.92 36149.  ]\n",
            " [ 9293.85 26018.  ]\n",
            " [ 9456.73 19749.  ]\n",
            " [ 9403.36  6940.  ]\n",
            " [ 9330.15  4718.  ]\n",
            " [ 9493.19 22192.  ]\n",
            " [ 9301.68  2899.  ]\n",
            " [ 9287.61 18838.  ]\n",
            " [ 9444.49 23568.  ]\n",
            " [ 9466.08 46255.  ]\n",
            " [ 9501.12 24227.  ]\n",
            " [ 9323.08  3268.  ]\n",
            " [ 9313.79  2322.  ]\n",
            " [ 9456.22  8827.  ]\n",
            " [ 9409.76 14478.  ]\n",
            " [ 9507.79 13112.  ]\n",
            " [ 9287.26  1253.  ]\n",
            " [ 9519.69 46718.  ]\n",
            " [ 9512.36 13919.  ]\n",
            " [ 9458.81  9630.  ]\n",
            " [ 9446.97 10736.  ]\n",
            " [ 9465.55  9880.  ]\n",
            " [ 9287.85 32548.  ]\n",
            " [ 9337.98 38746.  ]\n",
            " [ 9294.82  3180.  ]\n",
            " [ 9391.61  8162.  ]\n",
            " [ 9514.7  13041.  ]\n",
            " [ 9496.55 11554.  ]\n",
            " [ 9289.91 16232.  ]\n",
            " [ 9523.14 13887.  ]\n",
            " [ 9507.71 13012.  ]\n",
            " [ 9510.24 13217.  ]\n",
            " [ 9427.93  7147.  ]\n",
            " [ 9418.53  7731.  ]\n",
            " [ 9370.39 20296.  ]\n",
            " [ 9516.07 47403.  ]\n",
            " [ 9492.1  11658.  ]\n",
            " [ 9417.33 45863.  ]\n",
            " [ 9296.79  2055.  ]\n",
            " [ 9425.18  7441.  ]\n",
            " [ 9413.7  41034.  ]\n",
            " [ 9351.68 18972.  ]\n",
            " [ 9322.01  3410.  ]\n",
            " [ 9311.2   2699.  ]\n",
            " [ 9505.76 12333.  ]\n",
            " [ 9333.02 36837.  ]\n",
            " [ 9345.72  6334.  ]\n",
            " [ 9487.07 10214.  ]\n",
            " [ 9316.91 17878.  ]\n",
            " [ 9424.01  8515.  ]\n",
            " [ 9354.87  4518.  ]\n",
            " [ 9341.5   5148.  ]\n",
            " [ 9487.91 42303.  ]\n",
            " [ 9418.63 38998.  ]\n",
            " [ 9336.33  5327.  ]\n",
            " [ 9492.27 10602.  ]\n",
            " [ 9300.01  1824.  ]\n",
            " [ 9366.52  5377.  ]\n",
            " [ 9321.4   4349.  ]\n",
            " [ 9367.19 37742.  ]\n",
            " [ 9404.45 32787.  ]\n",
            " [ 9315.96  3353.  ]\n",
            " [ 9486.97 10577.  ]\n",
            " [ 9322.1   3556.  ]\n",
            " [ 9503.72 11944.  ]\n",
            " [ 9512.28 52590.  ]\n",
            " [ 9475.68 12475.  ]\n",
            " [ 9342.62  4266.  ]\n",
            " [ 9444.53  9249.  ]\n",
            " [ 9286.38 33732.  ]\n",
            " [ 9496.12 48675.  ]\n",
            " [ 9403.5   7729.  ]\n",
            " [ 9291.47  1964.  ]\n",
            " [ 9455.99  8444.  ]\n",
            " [ 9507.5  12347.  ]\n",
            " [ 9429.82  9301.  ]\n",
            " [ 9413.98 42124.  ]\n",
            " [ 9461.58  9991.  ]\n",
            " [ 9524.34 14319.  ]\n",
            " [ 9335.02  5428.  ]\n",
            " [ 9417.11  7626.  ]\n",
            " [ 9325.64  4906.  ]\n",
            " [ 9437.19 23401.  ]\n",
            " [ 9421.87 21098.  ]\n",
            " [ 9510.72 48173.  ]\n",
            " [ 9297.04  1917.  ]\n",
            " [ 9418.11  8219.  ]\n",
            " [ 9286.98  1725.  ]\n",
            " [ 9377.95  5976.  ]\n",
            " [ 9459.54  9361.  ]\n",
            " [ 9404.95 22144.  ]\n",
            " [ 9352.78 35491.  ]\n",
            " [ 9402.7  19515.  ]\n",
            " [ 9454.18 10107.  ]\n",
            " [ 9471.27 23244.  ]\n",
            " [ 9298.63  2789.  ]\n",
            " [ 9290.5   2261.  ]\n",
            " [ 9486.2  10594.  ]\n",
            " [ 9453.59  9304.  ]\n",
            " [ 9482.89 10435.  ]\n",
            " [ 9351.46  4894.  ]\n",
            " [ 9526.57 14313.  ]\n",
            " [ 9507.99 28287.  ]\n",
            " [ 9299.69 14426.  ]\n",
            " [ 9289.98  1627.  ]\n",
            " [ 9479.37 25517.  ]\n",
            " [ 9377.12  6555.  ]\n",
            " [ 9326.38 39611.  ]\n",
            " [ 9465.3   9964.  ]\n",
            " [ 9285.43  1720.  ]\n",
            " [ 9295.58  2730.  ]\n",
            " [ 9390.89  6500.  ]\n",
            " [ 9296.25  2643.  ]\n",
            " [ 9285.18  1719.  ]\n",
            " [ 9457.36 11085.  ]\n",
            " [ 9439.93 10115.  ]\n",
            " [ 9316.62  4846.  ]\n",
            " [ 9518.21 12982.  ]\n",
            " [ 9508.67 28923.  ]\n",
            " [ 9465.55  9391.  ]\n",
            " [ 9340.9   4544.  ]\n",
            " [ 9305.18 17128.  ]\n",
            " [ 9290.19 13844.  ]\n",
            " [ 9335.74  6113.  ]\n",
            " [ 9334.59  4441.  ]\n",
            " [ 9293.42  1633.  ]\n",
            " [ 9316.84  4058.  ]\n",
            " [ 9319.42  4435.  ]\n",
            " [ 9411.82  8310.  ]\n",
            " [ 9305.83  1986.  ]\n",
            " [ 9315.41  4260.  ]\n",
            " [ 9308.75  4504.  ]\n",
            " [ 9320.23  4428.  ]\n",
            " [ 9382.2   6117.  ]\n",
            " [ 9507.13 30184.  ]\n",
            " [ 9285.52  1708.  ]\n",
            " [ 9471.03 11187.  ]\n",
            " [ 9371.69  6796.  ]\n",
            " [ 9498.96 11356.  ]\n",
            " [ 9316.66  2498.  ]\n",
            " [ 9351.73 27375.  ]\n",
            " [ 9517.36 28101.  ]\n",
            " [ 9296.47  2254.  ]\n",
            " [ 9292.42  2597.  ]\n",
            " [ 9526.87 14692.  ]\n",
            " [ 9453.02 10370.  ]\n",
            " [ 9458.86 41097.  ]\n",
            " [ 9310.46  3981.  ]\n",
            " [ 9363.55  5472.  ]\n",
            " [ 9442.36 21223.  ]\n",
            " [ 9309.77  2534.  ]\n",
            " [ 9302.36  1972.  ]\n",
            " [ 9371.34  6406.  ]\n",
            " [ 9350.58  6551.  ]\n",
            " [ 9329.54  4058.  ]\n",
            " [ 9334.7   4243.  ]\n",
            " [ 9482.97 11512.  ]\n",
            " [ 9526.94 46889.  ]\n",
            " [ 9488.45 12268.  ]\n",
            " [ 9334.79 19199.  ]\n",
            " [ 9325.3   4433.  ]\n",
            " [ 9440.8  42969.  ]\n",
            " [ 9306.75 23241.  ]\n",
            " [ 9471.61  9140.  ]\n",
            " [ 9361.43  5836.  ]\n",
            " [ 9299.89  1149.  ]\n",
            " [ 9446.18  8765.  ]\n",
            " [ 9519.98 14043.  ]\n",
            " [ 9319.41  5312.  ]\n",
            " [ 9300.68 10795.  ]\n",
            " [ 9397.18  6282.  ]\n",
            " [ 9303.03  1969.  ]\n",
            " [ 9364.44  6746.  ]\n",
            " [ 9345.9   5354.  ]\n",
            " [ 9505.78 14001.  ]\n",
            " [ 9370.15  6877.  ]\n",
            " [ 9357.71  6196.  ]\n",
            " [ 9382.79  7986.  ]\n",
            " [ 9444.25  8277.  ]\n",
            " [ 9307.01  3206.  ]\n",
            " [ 9503.44 11848.  ]\n",
            " [ 9525.86 14210.  ]\n",
            " [ 9493.61 12265.  ]\n",
            " [ 9499.58 11837.  ]\n",
            " [ 9375.92  6652.  ]\n",
            " [ 9306.13  2137.  ]\n",
            " [ 9285.45  1131.  ]\n",
            " [ 9434.83  8342.  ]\n",
            " [ 9508.11 12244.  ]\n",
            " [ 9286.85  4561.  ]\n",
            " [ 9339.91 17626.  ]\n",
            " [ 9398.87  6875.  ]\n",
            " [ 9444.08  9447.  ]\n",
            " [ 9303.63 34254.  ]\n",
            " [ 9377.44  6067.  ]\n",
            " [ 9472.1  11729.  ]\n",
            " [ 9376.8   5383.  ]\n",
            " [ 9293.91 37465.  ]\n",
            " [ 9401.13  7371.  ]\n",
            " [ 9409.76  7325.  ]\n",
            " [ 9411.85  8410.  ]\n",
            " [ 9476.95 10461.  ]\n",
            " [ 9293.01  3279.  ]\n",
            " [ 9413.4   7727.  ]\n",
            " [ 9296.62  2731.  ]\n",
            " [ 9395.75  6858.  ]\n",
            " [ 9329.49 19521.  ]\n",
            " [ 9523.56 47305.  ]\n",
            " [ 9313.08  3987.  ]\n",
            " [ 9318.1   3238.  ]\n",
            " [ 9285.48  7323.  ]\n",
            " [ 9287.4   1704.  ]\n",
            " [ 9426.35  7445.  ]\n",
            " [ 9289.68  1629.  ]\n",
            " [ 9306.71  4877.  ]\n",
            " [ 9314.99  3561.  ]\n",
            " [ 9420.59  8605.  ]\n",
            " [ 9456.8  24520.  ]\n",
            " [ 9520.27 45710.  ]\n",
            " [ 9519.76 15019.  ]\n",
            " [ 9397.36  6664.  ]\n",
            " [ 9497.28 20709.  ]\n",
            " [ 9336.98 40932.  ]\n",
            " [ 9429.37  9500.  ]]\n"
          ],
          "name": "stdout"
        }
      ]
    },
    {
      "cell_type": "code",
      "metadata": {
        "colab": {
          "base_uri": "https://localhost:8080/"
        },
        "id": "6VGgW3GG33BB",
        "outputId": "8f4b4db5-a587-4e8b-8450-af5c85df8134"
      },
      "source": [
        "from sklearn.metrics import r2_score\n",
        "r2_score(y_test, y_pred)\n"
      ],
      "execution_count": 35,
      "outputs": [
        {
          "output_type": "execute_result",
          "data": {
            "text/plain": [
              "-0.10365652666353786"
            ]
          },
          "metadata": {
            "tags": []
          },
          "execution_count": 35
        }
      ]
    },
    {
      "cell_type": "code",
      "metadata": {
        "colab": {
          "base_uri": "https://localhost:8080/"
        },
        "id": "sJe3pYXZyix7",
        "outputId": "3c4d74ea-81e3-4136-8e1c-ed8a4e6c86a3"
      },
      "source": [
        "from sklearn.tree import DecisionTreeRegressor\n",
        "regressor_tree = DecisionTreeRegressor(random_state = 0)\n",
        "regressor_tree.fit(X_train, y_train)"
      ],
      "execution_count": 36,
      "outputs": [
        {
          "output_type": "execute_result",
          "data": {
            "text/plain": [
              "DecisionTreeRegressor(ccp_alpha=0.0, criterion='mse', max_depth=None,\n",
              "                      max_features=None, max_leaf_nodes=None,\n",
              "                      min_impurity_decrease=0.0, min_impurity_split=None,\n",
              "                      min_samples_leaf=1, min_samples_split=2,\n",
              "                      min_weight_fraction_leaf=0.0, presort='deprecated',\n",
              "                      random_state=0, splitter='best')"
            ]
          },
          "metadata": {
            "tags": []
          },
          "execution_count": 36
        }
      ]
    },
    {
      "cell_type": "code",
      "metadata": {
        "colab": {
          "base_uri": "https://localhost:8080/"
        },
        "id": "iK85XP2G0MMu",
        "outputId": "87781bc5-519b-4069-98a7-3372ab82a3e8"
      },
      "source": [
        "y_pred = regressor_tree.predict(X_test)\n",
        "np.set_printoptions(precision=2)\n",
        "print(np.concatenate((y_pred.reshape(len(y_pred), 1), y_test.reshape(len(y_test),1)),1))"
      ],
      "execution_count": 37,
      "outputs": [
        {
          "output_type": "stream",
          "text": [
            "[[ 9487.    9724.  ]\n",
            " [ 8233.    8547.  ]\n",
            " [42760.   45702.  ]\n",
            " [13143.   12950.  ]\n",
            " [11520.    9644.  ]\n",
            " [21984.    4500.  ]\n",
            " [ 2196.    2198.  ]\n",
            " [10848.   11436.  ]\n",
            " [ 7151.    7537.  ]\n",
            " [ 4433.    5425.  ]\n",
            " [ 4766.    6753.  ]\n",
            " [30284.   10493.  ]\n",
            " [ 6849.    7337.  ]\n",
            " [ 4571.    4185.  ]\n",
            " [18246.   18310.  ]\n",
            " [10118.   10702.  ]\n",
            " [13129.   12523.  ]\n",
            " [20277.    3490.  ]\n",
            " [ 6455.    6457.  ]\n",
            " [33307.   33475.  ]\n",
            " [24869.   23967.  ]\n",
            " [12269.   12643.  ]\n",
            " [10564.   23045.  ]\n",
            " [37829.   23065.  ]\n",
            " [16586.    1674.  ]\n",
            " [20277.    4667.  ]\n",
            " [ 2680.    3732.  ]\n",
            " [ 7209.    7682.  ]\n",
            " [ 3757.    3756.  ]\n",
            " [28340.    8413.  ]\n",
            " [ 7201.    8059.  ]\n",
            " [47896.   48970.  ]\n",
            " [13462.   12979.  ]\n",
            " [10226.   20630.  ]\n",
            " [14455.   14571.  ]\n",
            " [ 3943.    4137.  ]\n",
            " [ 8978.    8347.  ]\n",
            " [37165.   51194.  ]\n",
            " [39836.   40003.  ]\n",
            " [23082.    1880.  ]\n",
            " [21984.    5458.  ]\n",
            " [ 2866.    2867.  ]\n",
            " [22462.   20149.  ]\n",
            " [43254.   47496.  ]\n",
            " [36307.   36149.  ]\n",
            " [ 3579.   26018.  ]\n",
            " [10118.   19749.  ]\n",
            " [ 6358.    6940.  ]\n",
            " [ 4719.    4718.  ]\n",
            " [11946.   22192.  ]\n",
            " [ 3046.    2899.  ]\n",
            " [24059.   18838.  ]\n",
            " [37829.   23568.  ]\n",
            " [60021.   46255.  ]\n",
            " [11856.   24227.  ]\n",
            " [19673.    3268.  ]\n",
            " [ 2497.    2322.  ]\n",
            " [30284.    8827.  ]\n",
            " [ 6849.   14478.  ]\n",
            " [13224.   13112.  ]\n",
            " [ 1252.    1253.  ]\n",
            " [46130.   46718.  ]\n",
            " [14001.   13919.  ]\n",
            " [ 9563.    9630.  ]\n",
            " [28468.   10736.  ]\n",
            " [ 9877.    9880.  ]\n",
            " [33307.   32548.  ]\n",
            " [38282.   38746.  ]\n",
            " [ 4296.    3180.  ]\n",
            " [15828.    8162.  ]\n",
            " [12146.   13041.  ]\n",
            " [11946.   11554.  ]\n",
            " [17085.   16232.  ]\n",
            " [13887.   13887.  ]\n",
            " [13204.   13012.  ]\n",
            " [24513.   13217.  ]\n",
            " [ 8539.    7147.  ]\n",
            " [ 7726.    7731.  ]\n",
            " [17904.   20296.  ]\n",
            " [48673.   47403.  ]\n",
            " [11657.5  11658.  ]\n",
            " [63770.   45863.  ]\n",
            " [ 1909.    2055.  ]\n",
            " [24603.    7441.  ]\n",
            " [41919.   41034.  ]\n",
            " [19444.   18972.  ]\n",
            " [ 3392.    3410.  ]\n",
            " [ 2523.    2699.  ]\n",
            " [12913.   12333.  ]\n",
            " [36950.   36837.  ]\n",
            " [18903.    6334.  ]\n",
            " [ 9850.   10214.  ]\n",
            " [ 3213.   17878.  ]\n",
            " [ 8615.    8515.  ]\n",
            " [12404.    4518.  ]\n",
            " [16796.    5148.  ]\n",
            " [41999.   42303.  ]\n",
            " [39727.   38998.  ]\n",
            " [ 5693.    5327.  ]\n",
            " [10601.   10602.  ]\n",
            " [ 1826.    1824.  ]\n",
            " [ 5373.    5377.  ]\n",
            " [ 4949.    4349.  ]\n",
            " [36950.   37742.  ]\n",
            " [21348.   32787.  ]\n",
            " [ 3176.    3353.  ]\n",
            " [10959.   10577.  ]\n",
            " [ 3171.    3556.  ]\n",
            " [11743.   11944.  ]\n",
            " [45008.   52590.  ]\n",
            " [12479.   12475.  ]\n",
            " [ 4463.    4266.  ]\n",
            " [ 8930.    9249.  ]\n",
            " [33750.   33732.  ]\n",
            " [47462.   48675.  ]\n",
            " [13725.    7729.  ]\n",
            " [ 1832.    1964.  ]\n",
            " [ 8932.    8444.  ]\n",
            " [31620.   12347.  ]\n",
            " [11015.    9301.  ]\n",
            " [42856.   42124.  ]\n",
            " [10197.    9991.  ]\n",
            " [13831.   14319.  ]\n",
            " [ 4438.    5428.  ]\n",
            " [ 7726.    7626.  ]\n",
            " [ 4922.    4906.  ]\n",
            " [24393.   23401.  ]\n",
            " [35069.   21098.  ]\n",
            " [48673.   48173.  ]\n",
            " [ 1534.    1917.  ]\n",
            " [ 7726.    8219.  ]\n",
            " [ 1727.    1725.  ]\n",
            " [ 5974.    5976.  ]\n",
            " [11520.    9361.  ]\n",
            " [39727.   22144.  ]\n",
            " [36950.   35491.  ]\n",
            " [21259.   19515.  ]\n",
            " [10118.   10107.  ]\n",
            " [21677.   23244.  ]\n",
            " [ 2775.    2789.  ]\n",
            " [ 2128.    2261.  ]\n",
            " [10796.   10594.  ]\n",
            " [10381.    9304.  ]\n",
            " [10422.   10435.  ]\n",
            " [ 5257.    4894.  ]\n",
            " [13822.   14313.  ]\n",
            " [31620.   28287.  ]\n",
            " [ 4466.   14426.  ]\n",
            " [ 1625.    1627.  ]\n",
            " [10422.   25517.  ]\n",
            " [ 7077.    6555.  ]\n",
            " [38126.   39611.  ]\n",
            " [ 9957.    9964.  ]\n",
            " [ 1727.    1720.  ]\n",
            " [ 2719.    2730.  ]\n",
            " [ 6496.    6500.  ]\n",
            " [ 2362.    2643.  ]\n",
            " [ 1711.    1719.  ]\n",
            " [ 9910.   11085.  ]\n",
            " [10269.   10115.  ]\n",
            " [ 4438.    4846.  ]\n",
            " [13405.   12982.  ]\n",
            " [24513.   28923.  ]\n",
            " [ 8798.    9391.  ]\n",
            " [ 4134.    4544.  ]\n",
            " [ 4438.   17128.  ]\n",
            " [20167.   13844.  ]\n",
            " [16796.    6113.  ]\n",
            " [ 4237.    4441.  ]\n",
            " [ 1633.    1633.  ]\n",
            " [18804.    4058.  ]\n",
            " [ 4827.    4435.  ]\n",
            " [ 8116.    8310.  ]\n",
            " [ 1981.    1986.  ]\n",
            " [ 3693.    4260.  ]\n",
            " [ 3227.    4504.  ]\n",
            " [ 4827.    4428.  ]\n",
            " [ 6123.    6117.  ]\n",
            " [27218.   30184.  ]\n",
            " [ 1708.    1708.  ]\n",
            " [29186.   11187.  ]\n",
            " [ 7281.    6796.  ]\n",
            " [11566.   11356.  ]\n",
            " [ 2497.    2498.  ]\n",
            " [ 7228.   27375.  ]\n",
            " [29523.   28101.  ]\n",
            " [ 2741.    2254.  ]\n",
            " [ 2585.    2597.  ]\n",
            " [13822.   14692.  ]\n",
            " [10043.   10370.  ]\n",
            " [39556.   41097.  ]\n",
            " [ 3877.    3981.  ]\n",
            " [ 5478.    5472.  ]\n",
            " [21978.   21223.  ]\n",
            " [ 2523.    2534.  ]\n",
            " [ 1977.    1972.  ]\n",
            " [ 7173.    6406.  ]\n",
            " [ 5989.    6551.  ]\n",
            " [ 4463.    4058.  ]\n",
            " [ 4454.    4243.  ]\n",
            " [10923.   11512.  ]\n",
            " [47055.   46889.  ]\n",
            " [12269.   12268.  ]\n",
            " [19023.   19199.  ]\n",
            " [ 4433.    4433.  ]\n",
            " [41661.   42969.  ]\n",
            " [ 4661.   23241.  ]\n",
            " [ 9144.    9140.  ]\n",
            " [ 6184.    5836.  ]\n",
            " [ 1146.    1149.  ]\n",
            " [ 9583.    8765.  ]\n",
            " [13844.   14043.  ]\n",
            " [ 4719.    5312.  ]\n",
            " [ 2473.   10795.  ]\n",
            " [ 5699.    6282.  ]\n",
            " [ 1977.    1969.  ]\n",
            " [ 6748.    6746.  ]\n",
            " [ 7228.    5354.  ]\n",
            " [14001.   14001.  ]\n",
            " [ 6640.    6877.  ]\n",
            " [ 4536.    6196.  ]\n",
            " [ 7985.    7986.  ]\n",
            " [21232.    8277.  ]\n",
            " [ 3213.    3206.  ]\n",
            " [11842.   11848.  ]\n",
            " [13822.   14210.  ]\n",
            " [33471.   12265.  ]\n",
            " [11833.   11837.  ]\n",
            " [ 6710.    6652.  ]\n",
            " [ 2483.    2137.  ]\n",
            " [ 8583.33  1131.  ]\n",
            " [ 7448.    8342.  ]\n",
            " [21797.   12244.  ]\n",
            " [ 3393.    4561.  ]\n",
            " [ 4562.   17626.  ]\n",
            " [ 7256.    6875.  ]\n",
            " [ 9447.    9447.  ]\n",
            " [34166.   34254.  ]\n",
            " [ 7077.    6067.  ]\n",
            " [29186.   11729.  ]\n",
            " [ 5910.    5383.  ]\n",
            " [36397.   37465.  ]\n",
            " [ 4762.    7371.  ]\n",
            " [ 6837.    7325.  ]\n",
            " [ 8116.    8410.  ]\n",
            " [ 9869.   10461.  ]\n",
            " [ 3077.    3279.  ]\n",
            " [ 7421.    7727.  ]\n",
            " [ 1515.    2731.  ]\n",
            " [13725.    6858.  ]\n",
            " [19107.   19521.  ]\n",
            " [47291.   47305.  ]\n",
            " [ 3877.    3987.  ]\n",
            " [ 3227.    3238.  ]\n",
            " [ 2200.    7323.  ]\n",
            " [ 1702.    1704.  ]\n",
            " [ 7147.    7445.  ]\n",
            " [ 2136.    1629.  ]\n",
            " [ 3906.    4877.  ]\n",
            " [ 4133.    3561.  ]\n",
            " [ 9101.    8605.  ]\n",
            " [37829.   24520.  ]\n",
            " [46599.   45710.  ]\n",
            " [15612.   15019.  ]\n",
            " [ 6393.    6664.  ]\n",
            " [11566.   20709.  ]\n",
            " [58571.   40932.  ]\n",
            " [ 8891.    9500.  ]]\n"
          ],
          "name": "stdout"
        }
      ]
    },
    {
      "cell_type": "code",
      "metadata": {
        "colab": {
          "base_uri": "https://localhost:8080/"
        },
        "id": "EHyefBnj3707",
        "outputId": "bf73027f-0251-4750-8467-8e76b00b2cc1"
      },
      "source": [
        "from sklearn.metrics import r2_score\n",
        "r2_score(y_test, y_pred)\n"
      ],
      "execution_count": 38,
      "outputs": [
        {
          "output_type": "execute_result",
          "data": {
            "text/plain": [
              "0.7150956916056566"
            ]
          },
          "metadata": {
            "tags": []
          },
          "execution_count": 38
        }
      ]
    },
    {
      "cell_type": "code",
      "metadata": {
        "colab": {
          "base_uri": "https://localhost:8080/"
        },
        "id": "Wu-YFYf40stf",
        "outputId": "6d1b1fb8-b950-4dff-f80c-2b148bd9a484"
      },
      "source": [
        "from sklearn.ensemble import RandomForestRegressor\n",
        "RF = RandomForestRegressor(n_estimators = 10, random_state = 0)\n",
        "RF.fit(X_train, y_train)"
      ],
      "execution_count": 39,
      "outputs": [
        {
          "output_type": "execute_result",
          "data": {
            "text/plain": [
              "RandomForestRegressor(bootstrap=True, ccp_alpha=0.0, criterion='mse',\n",
              "                      max_depth=None, max_features='auto', max_leaf_nodes=None,\n",
              "                      max_samples=None, min_impurity_decrease=0.0,\n",
              "                      min_impurity_split=None, min_samples_leaf=1,\n",
              "                      min_samples_split=2, min_weight_fraction_leaf=0.0,\n",
              "                      n_estimators=10, n_jobs=None, oob_score=False,\n",
              "                      random_state=0, verbose=0, warm_start=False)"
            ]
          },
          "metadata": {
            "tags": []
          },
          "execution_count": 39
        }
      ]
    },
    {
      "cell_type": "code",
      "metadata": {
        "colab": {
          "base_uri": "https://localhost:8080/"
        },
        "id": "7wMOJg6z1pVN",
        "outputId": "731711ab-f1e2-4eaa-fd70-94fba28ed63a"
      },
      "source": [
        "y_pred = RF.predict(X_test)\n",
        "np.set_printoptions(precision=2)\n",
        "print(np.concatenate((y_pred.reshape(len(y_pred), 1), y_test.reshape(len(y_test),1)),1))"
      ],
      "execution_count": 40,
      "outputs": [
        {
          "output_type": "stream",
          "text": [
            "[[ 9670.5   9724.  ]\n",
            " [ 9423.8   8547.  ]\n",
            " [44522.7  45702.  ]\n",
            " [13097.1  12950.  ]\n",
            " [11124.4   9644.  ]\n",
            " [12489.3   4500.  ]\n",
            " [ 2187.8   2198.  ]\n",
            " [10547.9  11436.  ]\n",
            " [ 8416.2   7537.  ]\n",
            " [ 5529.2   5425.  ]\n",
            " [ 8731.7   6753.  ]\n",
            " [15724.9  10493.  ]\n",
            " [ 8582.73  7337.  ]\n",
            " [ 4194.4   4185.  ]\n",
            " [18076.37 18310.  ]\n",
            " [14381.8  10702.  ]\n",
            " [12363.6  12523.  ]\n",
            " [ 5956.9   3490.  ]\n",
            " [ 7823.    6457.  ]\n",
            " [33874.8  33475.  ]\n",
            " [23432.3  23967.  ]\n",
            " [12753.5  12643.  ]\n",
            " [14138.87 23045.  ]\n",
            " [28282.6  23065.  ]\n",
            " [ 7574.2   1674.  ]\n",
            " [ 9972.3   4667.  ]\n",
            " [11333.5   3732.  ]\n",
            " [10612.4   7682.  ]\n",
            " [ 3757.4   3756.  ]\n",
            " [14709.9   8413.  ]\n",
            " [ 7616.9   8059.  ]\n",
            " [48310.2  48970.  ]\n",
            " [14891.7  12979.  ]\n",
            " [13726.4  20630.  ]\n",
            " [15855.   14571.  ]\n",
            " [ 3734.6   4137.  ]\n",
            " [ 8289.4   8347.  ]\n",
            " [36954.5  51194.  ]\n",
            " [40462.4  40003.  ]\n",
            " [ 1875.5   1880.  ]\n",
            " [10790.9   5458.  ]\n",
            " [ 2966.6   2867.  ]\n",
            " [20321.1  20149.  ]\n",
            " [46237.7  47496.  ]\n",
            " [36012.8  36149.  ]\n",
            " [ 5712.4  26018.  ]\n",
            " [16654.3  19749.  ]\n",
            " [ 6666.    6940.  ]\n",
            " [ 6522.5   4718.  ]\n",
            " [11891.   22192.  ]\n",
            " [ 2675.    2899.  ]\n",
            " [15266.2  18838.  ]\n",
            " [28984.6  23568.  ]\n",
            " [47673.3  46255.  ]\n",
            " [11854.6  24227.  ]\n",
            " [11691.4   3268.  ]\n",
            " [ 2682.9   2322.  ]\n",
            " [13106.4   8827.  ]\n",
            " [ 8852.4  14478.  ]\n",
            " [21608.4  13112.  ]\n",
            " [ 1311.8   1253.  ]\n",
            " [45471.8  46718.  ]\n",
            " [20367.   13919.  ]\n",
            " [ 9648.3   9630.  ]\n",
            " [17537.2  10736.  ]\n",
            " [ 9818.2   9880.  ]\n",
            " [33785.2  32548.  ]\n",
            " [40467.7  38746.  ]\n",
            " [ 5955.2   3180.  ]\n",
            " [ 8520.8   8162.  ]\n",
            " [15601.2  13041.  ]\n",
            " [11620.2  11554.  ]\n",
            " [17632.3  16232.  ]\n",
            " [13629.7  13887.  ]\n",
            " [12716.4  13012.  ]\n",
            " [14611.4  13217.  ]\n",
            " [ 9672.7   7147.  ]\n",
            " [ 9287.4   7731.  ]\n",
            " [19992.6  20296.  ]\n",
            " [48191.5  47403.  ]\n",
            " [11657.53 11658.  ]\n",
            " [46567.2  45863.  ]\n",
            " [ 1878.7   2055.  ]\n",
            " [ 7625.7   7441.  ]\n",
            " [39890.8  41034.  ]\n",
            " [20521.3  18972.  ]\n",
            " [ 3377.1   3410.  ]\n",
            " [ 2524.7   2699.  ]\n",
            " [18233.6  12333.  ]\n",
            " [39388.9  36837.  ]\n",
            " [10758.4   6334.  ]\n",
            " [12862.3  10214.  ]\n",
            " [ 5220.4  17878.  ]\n",
            " [16829.6   8515.  ]\n",
            " [ 7751.7   4518.  ]\n",
            " [ 9613.4   5148.  ]\n",
            " [45011.4  42303.  ]\n",
            " [46045.7  38998.  ]\n",
            " [ 5115.2   5327.  ]\n",
            " [10686.3  10602.  ]\n",
            " [ 9258.2   1824.  ]\n",
            " [ 5389.6   5377.  ]\n",
            " [ 7411.7   4349.  ]\n",
            " [40114.5  37742.  ]\n",
            " [26976.5  32787.  ]\n",
            " [ 5365.8   3353.  ]\n",
            " [10878.4  10577.  ]\n",
            " [11433.4   3556.  ]\n",
            " [12084.   11944.  ]\n",
            " [45701.7  52590.  ]\n",
            " [15237.8  12475.  ]\n",
            " [ 7553.6   4266.  ]\n",
            " [ 9098.3   9249.  ]\n",
            " [34364.6  33732.  ]\n",
            " [47627.5  48675.  ]\n",
            " [ 7698.7   7729.  ]\n",
            " [ 1926.6   1964.  ]\n",
            " [10522.9   8444.  ]\n",
            " [24630.7  12347.  ]\n",
            " [ 9050.3   9301.  ]\n",
            " [42181.9  42124.  ]\n",
            " [17114.3   9991.  ]\n",
            " [13872.9  14319.  ]\n",
            " [11012.8   5428.  ]\n",
            " [13309.23  7626.  ]\n",
            " [ 4864.1   4906.  ]\n",
            " [24261.3  23401.  ]\n",
            " [24550.9  21098.  ]\n",
            " [48387.9  48173.  ]\n",
            " [ 1632.    1917.  ]\n",
            " [ 8307.5   8219.  ]\n",
            " [ 4015.03  1725.  ]\n",
            " [ 5887.    5976.  ]\n",
            " [ 9417.7   9361.  ]\n",
            " [46033.8  22144.  ]\n",
            " [45278.8  35491.  ]\n",
            " [24507.5  19515.  ]\n",
            " [15236.8  10107.  ]\n",
            " [23015.   23244.  ]\n",
            " [ 3560.1   2789.  ]\n",
            " [ 2142.5   2261.  ]\n",
            " [10770.6  10594.  ]\n",
            " [ 9202.6   9304.  ]\n",
            " [12069.67 10435.  ]\n",
            " [ 5251.8   4894.  ]\n",
            " [13867.8  14313.  ]\n",
            " [20118.7  28287.  ]\n",
            " [ 5723.4  14426.  ]\n",
            " [ 1626.3   1627.  ]\n",
            " [13242.2  25517.  ]\n",
            " [ 6808.3   6555.  ]\n",
            " [39246.8  39611.  ]\n",
            " [13418.    9964.  ]\n",
            " [ 4192.    1720.  ]\n",
            " [ 4877.6   2730.  ]\n",
            " [ 6507.8   6500.  ]\n",
            " [ 2375.7   2643.  ]\n",
            " [ 1865.3   1719.  ]\n",
            " [12371.1  11085.  ]\n",
            " [10892.   10115.  ]\n",
            " [13248.7   4846.  ]\n",
            " [13172.1  12982.  ]\n",
            " [12628.1  28923.  ]\n",
            " [ 8969.7   9391.  ]\n",
            " [ 6764.2   4544.  ]\n",
            " [11458.7  17128.  ]\n",
            " [19636.2  13844.  ]\n",
            " [ 7124.4   6113.  ]\n",
            " [ 4255.4   4441.  ]\n",
            " [ 1691.3   1633.  ]\n",
            " [14713.    4058.  ]\n",
            " [ 4294.3   4435.  ]\n",
            " [16914.6   8310.  ]\n",
            " [ 2163.8   1986.  ]\n",
            " [ 8720.1   4260.  ]\n",
            " [ 5151.5   4504.  ]\n",
            " [10114.1   4428.  ]\n",
            " [ 6110.9   6117.  ]\n",
            " [28502.6  30184.  ]\n",
            " [ 1747.17  1708.  ]\n",
            " [22251.07 11187.  ]\n",
            " [ 6632.9   6796.  ]\n",
            " [11396.   11356.  ]\n",
            " [ 2497.    2498.  ]\n",
            " [ 5707.3  27375.  ]\n",
            " [29063.3  28101.  ]\n",
            " [ 4275.9   2254.  ]\n",
            " [ 2332.9   2597.  ]\n",
            " [13908.6  14692.  ]\n",
            " [13790.2  10370.  ]\n",
            " [41262.4  41097.  ]\n",
            " [ 3826.9   3981.  ]\n",
            " [ 5119.6   5472.  ]\n",
            " [25601.2  21223.  ]\n",
            " [ 2688.    2534.  ]\n",
            " [ 7700.5   1972.  ]\n",
            " [ 8004.8   6406.  ]\n",
            " [11680.9   6551.  ]\n",
            " [ 4130.6   4058.  ]\n",
            " [ 4444.7   4243.  ]\n",
            " [12932.7  11512.  ]\n",
            " [46352.8  46889.  ]\n",
            " [14480.3  12268.  ]\n",
            " [18685.2  19199.  ]\n",
            " [ 7309.3   4433.  ]\n",
            " [42524.   42969.  ]\n",
            " [ 9510.6  23241.  ]\n",
            " [16495.9   9140.  ]\n",
            " [ 5696.    5836.  ]\n",
            " [ 1145.    1149.  ]\n",
            " [12669.7   8765.  ]\n",
            " [13621.5  14043.  ]\n",
            " [ 4673.1   5312.  ]\n",
            " [ 4991.5  10795.  ]\n",
            " [ 6474.5   6282.  ]\n",
            " [13609.6   1969.  ]\n",
            " [ 6505.9   6746.  ]\n",
            " [ 9426.1   5354.  ]\n",
            " [13711.6  14001.  ]\n",
            " [ 7664.1   6877.  ]\n",
            " [ 5710.4   6196.  ]\n",
            " [ 7834.4   7986.  ]\n",
            " [ 9844.4   8277.  ]\n",
            " [ 5076.4   3206.  ]\n",
            " [12806.3  11848.  ]\n",
            " [15400.4  14210.  ]\n",
            " [16548.8  12265.  ]\n",
            " [11781.5  11837.  ]\n",
            " [ 7337.2   6652.  ]\n",
            " [ 6996.8   2137.  ]\n",
            " [ 1195.05  1131.  ]\n",
            " [ 8125.4   8342.  ]\n",
            " [13408.8  12244.  ]\n",
            " [ 7486.2   4561.  ]\n",
            " [ 4471.9  17626.  ]\n",
            " [ 7112.4   6875.  ]\n",
            " [11266.5   9447.  ]\n",
            " [34413.4  34254.  ]\n",
            " [ 5689.7   6067.  ]\n",
            " [16817.9  11729.  ]\n",
            " [ 5661.8   5383.  ]\n",
            " [37280.3  37465.  ]\n",
            " [ 7113.7   7371.  ]\n",
            " [ 6771.4   7325.  ]\n",
            " [14677.7   8410.  ]\n",
            " [14510.97 10461.  ]\n",
            " [ 3659.    3279.  ]\n",
            " [11165.4   7727.  ]\n",
            " [ 2463.2   2731.  ]\n",
            " [ 8513.7   6858.  ]\n",
            " [19292.1  19521.  ]\n",
            " [46818.8  47305.  ]\n",
            " [ 3828.8   3987.  ]\n",
            " [ 6989.6   3238.  ]\n",
            " [ 2863.93  7323.  ]\n",
            " [ 1703.03  1704.  ]\n",
            " [ 7664.9   7445.  ]\n",
            " [ 4169.88  1629.  ]\n",
            " [ 8697.4   4877.  ]\n",
            " [ 3846.1   3561.  ]\n",
            " [ 8601.7   8605.  ]\n",
            " [28628.7  24520.  ]\n",
            " [45530.2  45710.  ]\n",
            " [17687.6  15019.  ]\n",
            " [ 6603.5   6664.  ]\n",
            " [11564.6  20709.  ]\n",
            " [44053.6  40932.  ]\n",
            " [ 8724.1   9500.  ]]\n"
          ],
          "name": "stdout"
        }
      ]
    },
    {
      "cell_type": "code",
      "metadata": {
        "colab": {
          "base_uri": "https://localhost:8080/"
        },
        "id": "3x3X_hz72Fv6",
        "outputId": "cd9d4b49-a473-4ca7-e71a-3a1bd0e436fa"
      },
      "source": [
        "from sklearn.metrics import r2_score\n",
        "r2_score(y_test, y_pred)\n"
      ],
      "execution_count": 41,
      "outputs": [
        {
          "output_type": "execute_result",
          "data": {
            "text/plain": [
              "0.8594218053934699"
            ]
          },
          "metadata": {
            "tags": []
          },
          "execution_count": 41
        }
      ]
    }
  ]
}